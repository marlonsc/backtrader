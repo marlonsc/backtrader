{
 "cells": [
  {
   "cell_type": "code",
   "execution_count": 1,
   "metadata": {
    "collapsed": true,
    "ExecuteTime": {
     "end_time": "2025-03-03T18:22:41.548220900Z",
     "start_time": "2025-03-03T18:22:41.320300300Z"
    }
   },
   "outputs": [],
   "source": [
    "import pandas as pd\n",
    "import numpy as np"
   ]
  },
  {
   "cell_type": "code",
   "execution_count": null,
   "outputs": [],
   "source": [],
   "metadata": {
    "collapsed": false
   }
  },
  {
   "cell_type": "code",
   "execution_count": 9,
   "outputs": [],
   "source": [
    "# 读取数据\n",
    "output_file = 'D:\\\\FutureData\\\\ricequant\\\\1d_2017to2024_noadjust.h5'\n",
    "df0 = pd.read_hdf(output_file, key='/MA').reset_index()\n",
    "df1 = pd.read_hdf(output_file, key='/PP').reset_index()\n"
   ],
   "metadata": {
    "collapsed": false,
    "ExecuteTime": {
     "end_time": "2025-03-03T18:28:17.347060600Z",
     "start_time": "2025-03-03T18:28:17.311030400Z"
    }
   }
  },
  {
   "cell_type": "code",
   "execution_count": 17,
   "outputs": [
    {
     "data": {
      "text/plain": "((25, 9),\n array([[531.71171171],\n        [241.63814015],\n        [180.71105   ],\n        ...,\n        [-31.38092881],\n        [-81.91067103],\n        [-57.64115829]]))"
     },
     "execution_count": 17,
     "metadata": {},
     "output_type": "execute_result"
    }
   ],
   "source": [
    "import numpy as np\n",
    "\n",
    "class KalmanFilter:\n",
    "    def __init__(self):\n",
    "        self.x = np.array([1.0])  # 初始系数（假设1:1配比）\n",
    "        self.P = np.eye(1)        # 状态协方差\n",
    "        self.Q = 0.01             # 过程噪声\n",
    "        self.R = 0.1              # 观测噪声\n",
    "\n",
    "    def update(self, z):\n",
    "        # 预测步骤\n",
    "        x_pred = self.x\n",
    "        P_pred = self.P + self.Q\n",
    "\n",
    "        # 更新步骤\n",
    "        K = P_pred / (P_pred + self.R)\n",
    "        self.x = x_pred + K * (z - x_pred)\n",
    "        self.P = (1 - K) * P_pred\n",
    "        return self.x[0]\n",
    "\n",
    "def kalman_ratio(df1, df2):\n",
    "    kf = KalmanFilter()\n",
    "    spreads = []\n",
    "    for p1, p2 in zip(df1, df2):\n",
    "        if p2 != 0:\n",
    "            ratio = p1 / p2  # 实时价格比\n",
    "            beta = kf.update(ratio)\n",
    "        spreads.append(p1 - beta * p2)\n",
    "\n",
    "    # 取末段均值确定整数配比\n",
    "    final_beta = np.mean(kf.x[-30:]) if len(df1) >30 else round(kf.x[-1])\n",
    "    return simplify_ratio(final_beta), np.array(spreads)\n",
    "\n",
    "kalman_ratio(df1.close,df0.close)"
   ],
   "metadata": {
    "collapsed": false,
    "ExecuteTime": {
     "end_time": "2025-03-03T18:47:00.716867100Z",
     "start_time": "2025-03-03T18:47:00.680445600Z"
    }
   }
  },
  {
   "cell_type": "code",
   "execution_count": 14,
   "outputs": [
    {
     "name": "stderr",
     "output_type": "stream",
     "text": [
      "C:\\Users\\flower\\AppData\\Local\\Temp\\ipykernel_8772\\3933633177.py:19: FutureWarning: Series.__getitem__ treating keys as positions is deprecated. In a future version, integer keys will always be treated as labels (consistent with DataFrame behavior). To access a value by position, use `ser.iloc[pos]`\n",
      "  beta = model.params[1] # 回归系数整数化\n"
     ]
    },
    {
     "data": {
      "text/plain": "((13, 8),\n 0       4250.271689\n 1       4208.413727\n 2       4242.987613\n 3       4153.277424\n 4       4246.924975\n            ...     \n 1938    3105.942179\n 1939    3112.561500\n 1940    3099.851310\n 1941    3062.936444\n 1942    3099.976144\n Name: close, Length: 1943, dtype: float64)"
     },
     "execution_count": 14,
     "metadata": {},
     "output_type": "execute_result"
    }
   ],
   "source": [
    "import statsmodels.api as sm\n",
    "from statsmodels.tsa.stattools import adfuller\n",
    "def simplify_ratio(ratio, max_denominator=10):\n",
    "    \"\"\"\n",
    "    将浮点比例转换为最简整数比\n",
    "    :param ratio: 浮点比例值\n",
    "    :param max_denominator: 最大允许的分母值\n",
    "    :return: (分子, 分母) 的元组\n",
    "    \"\"\"\n",
    "    from fractions import Fraction\n",
    "    frac = Fraction(ratio).limit_denominator(max_denominator)\n",
    "    return (frac.numerator, frac.denominator)\n",
    "\n",
    "def cointegration_ratio(df1, df2):\n",
    "\n",
    "    # 协整回归\n",
    "    X = sm.add_constant(df2)\n",
    "    model = sm.OLS(df1, X).fit()\n",
    "    beta = model.params[1] # 回归系数整数化\n",
    "    spread = df1 - beta * df2  # 价差序列\n",
    "\n",
    "    return simplify_ratio(beta), spread  # 配比格式(资产1单位:资产β单位)\n",
    "\n",
    "cointegration_ratio(df1.close,df0.close)"
   ],
   "metadata": {
    "collapsed": false,
    "ExecuteTime": {
     "end_time": "2025-03-03T18:30:43.099174300Z",
     "start_time": "2025-03-03T18:30:43.076654900Z"
    }
   }
  },
  {
   "cell_type": "code",
   "execution_count": null,
   "outputs": [],
   "source": [],
   "metadata": {
    "collapsed": false
   }
  }
 ],
 "metadata": {
  "kernelspec": {
   "display_name": "Python 3",
   "language": "python",
   "name": "python3"
  },
  "language_info": {
   "codemirror_mode": {
    "name": "ipython",
    "version": 2
   },
   "file_extension": ".py",
   "mimetype": "text/x-python",
   "name": "python",
   "nbconvert_exporter": "python",
   "pygments_lexer": "ipython2",
   "version": "2.7.6"
  }
 },
 "nbformat": 4,
 "nbformat_minor": 0
}
